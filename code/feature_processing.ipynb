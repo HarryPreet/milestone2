{
 "cells": [
  {
   "cell_type": "code",
   "execution_count": 9,
   "metadata": {},
   "outputs": [],
   "source": [
    "import pandas as pd\n",
    "import os\n",
    "cases_train= pd.read_csv('data/cases_2021_train_processed_2.csv')\n",
    "cases_test= pd.read_csv('data/cases_2021_test_processed_unlabelled_2.csv')"
   ]
  },
  {
   "cell_type": "markdown",
   "metadata": {},
   "source": [
    "# Pre-Processing"
   ]
  },
  {
   "cell_type": "markdown",
   "metadata": {},
   "source": [
    "## Selecting Features "
   ]
  },
  {
   "cell_type": "code",
   "execution_count": 10,
   "metadata": {},
   "outputs": [],
   "source": [
    "cases_train = cases_train.drop(columns='province')\n",
    "cases_train.to_csv('data/train.csv',index=False)\n",
    "cases_test = cases_test.drop(columns='province')\n",
    "cases_test.to_csv('data/test.csv',index=False)"
   ]
  },
  {
   "cell_type": "markdown",
   "metadata": {},
   "source": [
    "## Reading Data"
   ]
  },
  {
   "cell_type": "code",
   "execution_count": 11,
   "metadata": {},
   "outputs": [],
   "source": [
    "from sklearn.preprocessing import OrdinalEncoder\n",
    "import numpy as np\n",
    "train= pd.read_csv('data/train.csv')\n",
    "test= pd.read_csv('data/test.csv')"
   ]
  },
  {
   "cell_type": "markdown",
   "metadata": {},
   "source": [
    "# Encoding Data"
   ]
  },
  {
   "cell_type": "code",
   "execution_count": 12,
   "metadata": {},
   "outputs": [],
   "source": [
    "import datetime as dt\n",
    "\n",
    "b = dt.datetime(2019,12,31,23,59,59)\n",
    "train['date_confirmation']= pd.to_datetime(train['date_confirmation'], format='%Y-%m-%d')\n",
    "train['date_confirmation'] = train['date_confirmation'].apply(lambda x: (x - b).days)\n",
    "test['date_confirmation']= pd.to_datetime(test['date_confirmation'], format='%Y-%m-%d')\n",
    "test['date_confirmation'] = test['date_confirmation'].apply(lambda x: (x - b).days)\n",
    "\n",
    "enc=OrdinalEncoder()\n",
    "train['sex']=enc.fit_transform(train[['sex']])\n",
    "test['sex']=enc.fit_transform(test[['sex']])\n",
    "countries_train=enc.fit_transform(train[['country']])\n",
    "train['outcome_group']=enc.fit_transform(train[['outcome_group']])\n",
    "train['chronic_disease_binary']=enc.fit_transform(train[['chronic_disease_binary']])\n",
    "test['chronic_disease_binary']=enc.fit_transform(test[['chronic_disease_binary']])"
   ]
  },
  {
   "cell_type": "code",
   "execution_count": 64,
   "metadata": {},
   "outputs": [],
   "source": [
    "allcountries=np.append(train['country'],test['country'])\n",
    "data=pd.DataFrame(allcountries, columns=['country'])\n",
    "data['encoding']=enc.fit_transform(data[['country']])\n",
    "data['encoding'].astype('str')\n",
    "data=data.drop_duplicates()"
   ]
  },
  {
   "cell_type": "code",
   "execution_count": 65,
   "metadata": {},
   "outputs": [],
   "source": [
    "for i in range(39):\n",
    "    test.loc[test['country']==data['country'].iloc[i],'country']=data['encoding'].iloc[i]\n",
    "    train.loc[train['country']==data['country'].iloc[i],'country']=data['encoding'].iloc[i]"
   ]
  },
  {
   "cell_type": "code",
   "execution_count": 66,
   "metadata": {},
   "outputs": [],
   "source": [
    "train.to_csv('data/train.csv',index=False)\n",
    "test.to_csv('data/test.csv',index=False)"
   ]
  }
 ],
 "metadata": {
  "interpreter": {
   "hash": "e9459b1da317a19004733456e1fe21eb72f943d505bb677eecb601d069b093f6"
  },
  "kernelspec": {
   "display_name": "Python 3.10.2 64-bit",
   "language": "python",
   "name": "python3"
  },
  "language_info": {
   "codemirror_mode": {
    "name": "ipython",
    "version": 3
   },
   "file_extension": ".py",
   "mimetype": "text/x-python",
   "name": "python",
   "nbconvert_exporter": "python",
   "pygments_lexer": "ipython3",
   "version": "3.10.2"
  },
  "orig_nbformat": 4
 },
 "nbformat": 4,
 "nbformat_minor": 2
}
