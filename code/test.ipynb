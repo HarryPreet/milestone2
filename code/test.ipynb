{
 "cells": [
  {
   "cell_type": "code",
   "execution_count": 8,
   "metadata": {},
   "outputs": [],
   "source": [
    "import pandas as pd\n",
    "import os\n",
    "cases_train= pd.read_csv('data/cases_2021_train_processed_2.csv')\n",
    "cases_test= pd.read_csv('data/cases_2021_test_processed_unlabelled_2.csv')\n"
   ]
  },
  {
   "cell_type": "markdown",
   "metadata": {},
   "source": [
    "# Pre-Processing"
   ]
  },
  {
   "cell_type": "markdown",
   "metadata": {},
   "source": [
    "## Selecting Features "
   ]
  },
  {
   "cell_type": "code",
   "execution_count": 9,
   "metadata": {},
   "outputs": [],
   "source": [
    "cases_train = cases_train.drop(columns='date_confirmation')\n",
    "cases_train = cases_train.drop(columns='province')\n",
    "cases_train.to_csv('data/ctrain.csv',index=False)\n",
    "cases_test = cases_test.drop(columns='date_confirmation')\n",
    "cases_test = cases_test.drop(columns='province')\n",
    "cases_test.to_csv('data/ctest.csv',index=False)"
   ]
  },
  {
   "cell_type": "markdown",
   "metadata": {},
   "source": [
    "## Balancing Data"
   ]
  },
  {
   "cell_type": "code",
   "execution_count": 31,
   "metadata": {},
   "outputs": [
    {
     "name": "stdout",
     "output_type": "stream",
     "text": [
      "Total Samples Before Balancing:  17212 Distribution of Classes: Counter({'hospitalized': 13241, 'nonhospitalized': 2974, 'deceased': 997})\n"
     ]
    }
   ],
   "source": [
    "#%pip install imbalanced-learn\n",
    "import imblearn\n",
    "import imblearn\n",
    "from imblearn.over_sampling import SMOTE\n",
    "from imblearn.under_sampling import RandomUnderSampler \n",
    "from imblearn.over_sampling import RandomOverSampler\n",
    "from collections import Counter\n",
    "from sklearn.preprocessing import OrdinalEncoder\n",
    "import numpy as np\n",
    "train= pd.read_csv('data/ctrain.csv')\n",
    "test= pd.read_csv('data/ctest.csv')"
   ]
  },
  {
   "cell_type": "markdown",
   "metadata": {},
   "source": [
    "# Encoding"
   ]
  },
  {
   "cell_type": "code",
   "execution_count": 18,
   "metadata": {},
   "outputs": [],
   "source": [
    "enc=OrdinalEncoder()\n",
    "train['sex']=enc.fit_transform(train[['sex']])\n",
    "test['sex']=enc.fit_transform(test[['sex']])\n",
    "countries_train=enc.fit_transform(train[['country']])\n",
    "train['outcome_group']=enc.fit_transform(train[['outcome_group']])\n",
    "train['chronic_disease_binary']=enc.fit_transform(train[['chronic_disease_binary']])\n",
    "test['chronic_disease_binary']=enc.fit_transform(test[['chronic_disease_binary']])"
   ]
  },
  {
   "cell_type": "code",
   "execution_count": 20,
   "metadata": {},
   "outputs": [],
   "source": [
    "allcountries=np.append(train['country'],test['country'])\n",
    "data=pd.DataFrame(allcountries, columns=['country'])\n",
    "data['encoding']=enc.fit_transform(data[['country']])\n",
    "data['encoding'].astype('str')\n",
    "data=data.drop_duplicates()"
   ]
  },
  {
   "cell_type": "code",
   "execution_count": 23,
   "metadata": {},
   "outputs": [],
   "source": [
    "for i in range(39):\n",
    "    test.loc[test['country']==data['country'].iloc[i],'country']=data['encoding'].iloc[i]\n",
    "    train.loc[train['country']==data['country'].iloc[i],'country']=data['encoding'].iloc[i]"
   ]
  },
  {
   "cell_type": "markdown",
   "metadata": {},
   "source": [
    "# Balancing"
   ]
  },
  {
   "cell_type": "code",
   "execution_count": 32,
   "metadata": {},
   "outputs": [
    {
     "name": "stdout",
     "output_type": "stream",
     "text": [
      "Total Samples Before Balancing:  17212 Distribution of Classes: Counter({'hospitalized': 13241, 'nonhospitalized': 2974, 'deceased': 997})\n"
     ]
    },
    {
     "name": "stderr",
     "output_type": "stream",
     "text": [
      "C:\\Users\\hps1\\AppData\\Roaming\\Python\\Python310\\site-packages\\imblearn\\utils\\_validation.py:586: FutureWarning: Pass sampling_strategy={2.0: 5680, 0.0: 5680} as keyword args. From version 0.9 passing these as positional arguments will result in an error\n",
      "  warnings.warn(\n",
      "C:\\Users\\hps1\\AppData\\Roaming\\Python\\Python310\\site-packages\\imblearn\\utils\\_validation.py:586: FutureWarning: Pass sampling_strategy={1.0: 5680} as keyword args. From version 0.9 passing these as positional arguments will result in an error\n",
      "  warnings.warn(\n"
     ]
    },
    {
     "ename": "ValueError",
     "evalue": "The {1.0} target class is/are not present in the data.",
     "output_type": "error",
     "traceback": [
      "\u001b[1;31m---------------------------------------------------------------------------\u001b[0m",
      "\u001b[1;31mValueError\u001b[0m                                Traceback (most recent call last)",
      "\u001b[1;32mu:\\milestone2\\code\\test.ipynb Cell 12'\u001b[0m in \u001b[0;36m<cell line: 7>\u001b[1;34m()\u001b[0m\n\u001b[0;32m      <a href='vscode-notebook-cell:/u%3A/milestone2/code/test.ipynb#ch0000006?line=4'>5</a>\u001b[0m over \u001b[39m=\u001b[39m RandomOverSampler({\u001b[39m2.0\u001b[39m:\u001b[39m5680\u001b[39m ,\u001b[39m0.0\u001b[39m:\u001b[39m5680\u001b[39m})\n\u001b[0;32m      <a href='vscode-notebook-cell:/u%3A/milestone2/code/test.ipynb#ch0000006?line=5'>6</a>\u001b[0m under \u001b[39m=\u001b[39m RandomUnderSampler({\u001b[39m1.0\u001b[39m:\u001b[39m5680\u001b[39m})\n\u001b[1;32m----> <a href='vscode-notebook-cell:/u%3A/milestone2/code/test.ipynb#ch0000006?line=6'>7</a>\u001b[0m features,labels \u001b[39m=\u001b[39m under\u001b[39m.\u001b[39;49mfit_resample(features,labels)\n\u001b[0;32m      <a href='vscode-notebook-cell:/u%3A/milestone2/code/test.ipynb#ch0000006?line=7'>8</a>\u001b[0m features,labels \u001b[39m=\u001b[39m over\u001b[39m.\u001b[39mfit_resample(features,labels)\n\u001b[0;32m      <a href='vscode-notebook-cell:/u%3A/milestone2/code/test.ipynb#ch0000006?line=8'>9</a>\u001b[0m counter \u001b[39m=\u001b[39m Counter(labels[\u001b[39m'\u001b[39m\u001b[39moutcome_group\u001b[39m\u001b[39m'\u001b[39m])\n",
      "File \u001b[1;32m~\\AppData\\Roaming\\Python\\Python310\\site-packages\\imblearn\\base.py:79\u001b[0m, in \u001b[0;36mSamplerMixin.fit_resample\u001b[1;34m(self, X, y)\u001b[0m\n\u001b[0;32m     <a href='file:///~/AppData/Roaming/Python/Python310/site-packages/imblearn/base.py?line=75'>76</a>\u001b[0m arrays_transformer \u001b[39m=\u001b[39m ArraysTransformer(X, y)\n\u001b[0;32m     <a href='file:///~/AppData/Roaming/Python/Python310/site-packages/imblearn/base.py?line=76'>77</a>\u001b[0m X, y, binarize_y \u001b[39m=\u001b[39m \u001b[39mself\u001b[39m\u001b[39m.\u001b[39m_check_X_y(X, y)\n\u001b[1;32m---> <a href='file:///~/AppData/Roaming/Python/Python310/site-packages/imblearn/base.py?line=78'>79</a>\u001b[0m \u001b[39mself\u001b[39m\u001b[39m.\u001b[39msampling_strategy_ \u001b[39m=\u001b[39m check_sampling_strategy(\n\u001b[0;32m     <a href='file:///~/AppData/Roaming/Python/Python310/site-packages/imblearn/base.py?line=79'>80</a>\u001b[0m     \u001b[39mself\u001b[39;49m\u001b[39m.\u001b[39;49msampling_strategy, y, \u001b[39mself\u001b[39;49m\u001b[39m.\u001b[39;49m_sampling_type\n\u001b[0;32m     <a href='file:///~/AppData/Roaming/Python/Python310/site-packages/imblearn/base.py?line=80'>81</a>\u001b[0m )\n\u001b[0;32m     <a href='file:///~/AppData/Roaming/Python/Python310/site-packages/imblearn/base.py?line=82'>83</a>\u001b[0m output \u001b[39m=\u001b[39m \u001b[39mself\u001b[39m\u001b[39m.\u001b[39m_fit_resample(X, y)\n\u001b[0;32m     <a href='file:///~/AppData/Roaming/Python/Python310/site-packages/imblearn/base.py?line=84'>85</a>\u001b[0m y_ \u001b[39m=\u001b[39m (\n\u001b[0;32m     <a href='file:///~/AppData/Roaming/Python/Python310/site-packages/imblearn/base.py?line=85'>86</a>\u001b[0m     label_binarize(output[\u001b[39m1\u001b[39m], classes\u001b[39m=\u001b[39mnp\u001b[39m.\u001b[39munique(y)) \u001b[39mif\u001b[39;00m binarize_y \u001b[39melse\u001b[39;00m output[\u001b[39m1\u001b[39m]\n\u001b[0;32m     <a href='file:///~/AppData/Roaming/Python/Python310/site-packages/imblearn/base.py?line=86'>87</a>\u001b[0m )\n",
      "File \u001b[1;32m~\\AppData\\Roaming\\Python\\Python310\\site-packages\\imblearn\\utils\\_validation.py:520\u001b[0m, in \u001b[0;36mcheck_sampling_strategy\u001b[1;34m(sampling_strategy, y, sampling_type, **kwargs)\u001b[0m\n\u001b[0;32m    <a href='file:///~/AppData/Roaming/Python/Python310/site-packages/imblearn/utils/_validation.py?line=514'>515</a>\u001b[0m     \u001b[39mreturn\u001b[39;00m OrderedDict(\n\u001b[0;32m    <a href='file:///~/AppData/Roaming/Python/Python310/site-packages/imblearn/utils/_validation.py?line=515'>516</a>\u001b[0m         \u001b[39msorted\u001b[39m(SAMPLING_TARGET_KIND[sampling_strategy](y, sampling_type)\u001b[39m.\u001b[39mitems())\n\u001b[0;32m    <a href='file:///~/AppData/Roaming/Python/Python310/site-packages/imblearn/utils/_validation.py?line=516'>517</a>\u001b[0m     )\n\u001b[0;32m    <a href='file:///~/AppData/Roaming/Python/Python310/site-packages/imblearn/utils/_validation.py?line=517'>518</a>\u001b[0m \u001b[39melif\u001b[39;00m \u001b[39misinstance\u001b[39m(sampling_strategy, \u001b[39mdict\u001b[39m):\n\u001b[0;32m    <a href='file:///~/AppData/Roaming/Python/Python310/site-packages/imblearn/utils/_validation.py?line=518'>519</a>\u001b[0m     \u001b[39mreturn\u001b[39;00m OrderedDict(\n\u001b[1;32m--> <a href='file:///~/AppData/Roaming/Python/Python310/site-packages/imblearn/utils/_validation.py?line=519'>520</a>\u001b[0m         \u001b[39msorted\u001b[39m(_sampling_strategy_dict(sampling_strategy, y, sampling_type)\u001b[39m.\u001b[39mitems())\n\u001b[0;32m    <a href='file:///~/AppData/Roaming/Python/Python310/site-packages/imblearn/utils/_validation.py?line=520'>521</a>\u001b[0m     )\n\u001b[0;32m    <a href='file:///~/AppData/Roaming/Python/Python310/site-packages/imblearn/utils/_validation.py?line=521'>522</a>\u001b[0m \u001b[39melif\u001b[39;00m \u001b[39misinstance\u001b[39m(sampling_strategy, \u001b[39mlist\u001b[39m):\n\u001b[0;32m    <a href='file:///~/AppData/Roaming/Python/Python310/site-packages/imblearn/utils/_validation.py?line=522'>523</a>\u001b[0m     \u001b[39mreturn\u001b[39;00m OrderedDict(\n\u001b[0;32m    <a href='file:///~/AppData/Roaming/Python/Python310/site-packages/imblearn/utils/_validation.py?line=523'>524</a>\u001b[0m         \u001b[39msorted\u001b[39m(_sampling_strategy_list(sampling_strategy, y, sampling_type)\u001b[39m.\u001b[39mitems())\n\u001b[0;32m    <a href='file:///~/AppData/Roaming/Python/Python310/site-packages/imblearn/utils/_validation.py?line=524'>525</a>\u001b[0m     )\n",
      "File \u001b[1;32m~\\AppData\\Roaming\\Python\\Python310\\site-packages\\imblearn\\utils\\_validation.py:275\u001b[0m, in \u001b[0;36m_sampling_strategy_dict\u001b[1;34m(sampling_strategy, y, sampling_type)\u001b[0m\n\u001b[0;32m    <a href='file:///~/AppData/Roaming/Python/Python310/site-packages/imblearn/utils/_validation.py?line=270'>271</a>\u001b[0m set_diff_sampling_strategy_target \u001b[39m=\u001b[39m \u001b[39mset\u001b[39m(sampling_strategy\u001b[39m.\u001b[39mkeys()) \u001b[39m-\u001b[39m \u001b[39mset\u001b[39m(\n\u001b[0;32m    <a href='file:///~/AppData/Roaming/Python/Python310/site-packages/imblearn/utils/_validation.py?line=271'>272</a>\u001b[0m     target_stats\u001b[39m.\u001b[39mkeys()\n\u001b[0;32m    <a href='file:///~/AppData/Roaming/Python/Python310/site-packages/imblearn/utils/_validation.py?line=272'>273</a>\u001b[0m )\n\u001b[0;32m    <a href='file:///~/AppData/Roaming/Python/Python310/site-packages/imblearn/utils/_validation.py?line=273'>274</a>\u001b[0m \u001b[39mif\u001b[39;00m \u001b[39mlen\u001b[39m(set_diff_sampling_strategy_target) \u001b[39m>\u001b[39m \u001b[39m0\u001b[39m:\n\u001b[1;32m--> <a href='file:///~/AppData/Roaming/Python/Python310/site-packages/imblearn/utils/_validation.py?line=274'>275</a>\u001b[0m     \u001b[39mraise\u001b[39;00m \u001b[39mValueError\u001b[39;00m(\n\u001b[0;32m    <a href='file:///~/AppData/Roaming/Python/Python310/site-packages/imblearn/utils/_validation.py?line=275'>276</a>\u001b[0m         \u001b[39mf\u001b[39m\u001b[39m\"\u001b[39m\u001b[39mThe \u001b[39m\u001b[39m{\u001b[39;00mset_diff_sampling_strategy_target\u001b[39m}\u001b[39;00m\u001b[39m target class is/are not \u001b[39m\u001b[39m\"\u001b[39m\n\u001b[0;32m    <a href='file:///~/AppData/Roaming/Python/Python310/site-packages/imblearn/utils/_validation.py?line=276'>277</a>\u001b[0m         \u001b[39mf\u001b[39m\u001b[39m\"\u001b[39m\u001b[39mpresent in the data.\u001b[39m\u001b[39m\"\u001b[39m\n\u001b[0;32m    <a href='file:///~/AppData/Roaming/Python/Python310/site-packages/imblearn/utils/_validation.py?line=277'>278</a>\u001b[0m     )\n\u001b[0;32m    <a href='file:///~/AppData/Roaming/Python/Python310/site-packages/imblearn/utils/_validation.py?line=278'>279</a>\u001b[0m \u001b[39m# check that there is no negative number\u001b[39;00m\n\u001b[0;32m    <a href='file:///~/AppData/Roaming/Python/Python310/site-packages/imblearn/utils/_validation.py?line=279'>280</a>\u001b[0m \u001b[39mif\u001b[39;00m \u001b[39many\u001b[39m(n_samples \u001b[39m<\u001b[39m \u001b[39m0\u001b[39m \u001b[39mfor\u001b[39;00m n_samples \u001b[39min\u001b[39;00m sampling_strategy\u001b[39m.\u001b[39mvalues()):\n",
      "\u001b[1;31mValueError\u001b[0m: The {1.0} target class is/are not present in the data."
     ]
    }
   ],
   "source": [
    "labels = train.loc[:,train.columns == 'outcome_group']\n",
    "features = train.loc[:,train.columns != 'outcome_group']\n",
    "counter = Counter(labels['outcome_group'])\n",
    "print(\"Total Samples Before Balancing: \",len(train), \"Distribution of Classes:\", counter)\n",
    "over = RandomOverSampler({2.0:5680 ,0.0:5680})\n",
    "under = RandomUnderSampler({1.0:5680})\n",
    "features,labels = under.fit_resample(features,labels)\n",
    "features,labels = over.fit_resample(features,labels)\n",
    "counter = Counter(labels['outcome_group'])\n",
    "features['outcome_group'] = labels['outcome_group']\n",
    "train = features\n",
    "print(\"Total Samples After Balancing: \",len(train), \"Distribution of Classes:\", counter)"
   ]
  },
  {
   "cell_type": "code",
   "execution_count": null,
   "metadata": {},
   "outputs": [],
   "source": [
    "train.to_csv('data/train.csv',index=False)\n",
    "test.to_csv('data/test.csv',index=False)"
   ]
  }
 ],
 "metadata": {
  "interpreter": {
   "hash": "e9459b1da317a19004733456e1fe21eb72f943d505bb677eecb601d069b093f6"
  },
  "kernelspec": {
   "display_name": "Python 3.10.2 64-bit",
   "language": "python",
   "name": "python3"
  },
  "language_info": {
   "codemirror_mode": {
    "name": "ipython",
    "version": 3
   },
   "file_extension": ".py",
   "mimetype": "text/x-python",
   "name": "python",
   "nbconvert_exporter": "python",
   "pygments_lexer": "ipython3",
   "version": "3.10.2"
  },
  "orig_nbformat": 4
 },
 "nbformat": 4,
 "nbformat_minor": 2
}
