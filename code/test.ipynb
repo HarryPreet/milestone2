{
 "cells": [
  {
   "cell_type": "code",
   "execution_count": 3,
   "metadata": {},
   "outputs": [],
   "source": [
    "import pandas as pd\n",
    "cases_train= pd.read_csv('data/cases_2021_train_processed_2.csv')\n",
    "cases_test= pd.read_csv('data/cases_2021_test_processed_unlabelled_2 .csv')\n"
   ]
  },
  {
   "cell_type": "code",
   "execution_count": 5,
   "metadata": {},
   "outputs": [
    {
     "data": {
      "text/plain": [
       "age                          0\n",
       "sex                          0\n",
       "province                  3621\n",
       "country                      0\n",
       "latitude                     0\n",
       "longitude                    0\n",
       "date_confirmation            0\n",
       "chronic_disease_binary       0\n",
       "Confirmed                    0\n",
       "Deaths                       0\n",
       "Recovered                    0\n",
       "Active                       0\n",
       "Incident_Rate                0\n",
       "Case_Fatality_Ratio          0\n",
       "outcome_group                0\n",
       "dtype: int64"
      ]
     },
     "execution_count": 5,
     "metadata": {},
     "output_type": "execute_result"
    }
   ],
   "source": [
    "cases_test.isna().sum() "
   ]
  },
  {
   "cell_type": "code",
   "execution_count": 28,
   "metadata": {},
   "outputs": [
    {
     "name": "stdout",
     "output_type": "stream",
     "text": [
      "outcome_group\n",
      "deceased             997\n",
      "hospitalized       13241\n",
      "nonhospitalized     2974\n",
      "dtype: int64\n",
      "outcome_group\n",
      "deceased             997\n",
      "hospitalized       13161\n",
      "nonhospitalized     2974\n",
      "dtype: int64\n"
     ]
    }
   ],
   "source": [
    "print(cases_train.groupby('outcome_group').size())\n",
    "cases = cases_train.drop(cases_train[(cases_train[\"province\"] == cases_train[\"country\"]) & (cases_train[\"outcome_group\"] == \"hospitalized\")].index)\n",
    "print(cases.groupby('outcome_group').size())"
   ]
  },
  {
   "cell_type": "code",
   "execution_count": 34,
   "metadata": {},
   "outputs": [
    {
     "data": {
      "text/plain": [
       "outcome_group\n",
       "deceased            689\n",
       "hospitalized         80\n",
       "nonhospitalized    2852\n",
       "dtype: int64"
      ]
     },
     "execution_count": 34,
     "metadata": {},
     "output_type": "execute_result"
    }
   ],
   "source": [
    "test = cases_train[(cases_train[\"province\"] == cases_train[\"country\"]) ]\n",
    "test.groupby('outcome_group').size()"
   ]
  },
  {
   "cell_type": "code",
   "execution_count": 36,
   "metadata": {},
   "outputs": [
    {
     "data": {
      "text/plain": [
       "age                       0\n",
       "sex                       0\n",
       "province                  0\n",
       "country                   0\n",
       "latitude                  0\n",
       "longitude                 0\n",
       "date_confirmation         0\n",
       "chronic_disease_binary    0\n",
       "Confirmed                 0\n",
       "Deaths                    0\n",
       "Recovered                 0\n",
       "Active                    0\n",
       "Incident_Rate             0\n",
       "Case_Fatality_Ratio       0\n",
       "dtype: int64"
      ]
     },
     "execution_count": 36,
     "metadata": {},
     "output_type": "execute_result"
    }
   ],
   "source": [
    "cases_train= pd.read_csv('data/cases_2021_test_processed_unlabelled_2.csv')\n",
    "cases_train.isna().sum()"
   ]
  }
 ],
 "metadata": {
  "interpreter": {
   "hash": "e9459b1da317a19004733456e1fe21eb72f943d505bb677eecb601d069b093f6"
  },
  "kernelspec": {
   "display_name": "Python 3.10.2 64-bit",
   "language": "python",
   "name": "python3"
  },
  "language_info": {
   "codemirror_mode": {
    "name": "ipython",
    "version": 3
   },
   "file_extension": ".py",
   "mimetype": "text/x-python",
   "name": "python",
   "nbconvert_exporter": "python",
   "pygments_lexer": "ipython3",
   "version": "3.10.2"
  },
  "orig_nbformat": 4
 },
 "nbformat": 4,
 "nbformat_minor": 2
}
